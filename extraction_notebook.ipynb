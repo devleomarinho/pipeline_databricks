{
 "cells": [
  {
   "cell_type": "code",
   "execution_count": 0,
   "metadata": {
    "application/vnd.databricks.v1+cell": {
     "cellMetadata": {},
     "inputWidgets": {},
     "nuid": "e3dcf055-dcc0-49da-b243-1f44aecdfe3e",
     "showTitle": false,
     "tableResultSettingsMap": {},
     "title": ""
    }
   },
   "outputs": [],
   "source": [
    "dbutils.widgets.text(\"data_execucao\", \"\")\n",
    "data_execucao = dbutils.widgets.get(\"data_execucao\")"
   ]
  },
  {
   "cell_type": "code",
   "execution_count": 0,
   "metadata": {
    "application/vnd.databricks.v1+cell": {
     "cellMetadata": {
      "byteLimit": 2048000,
      "rowLimit": 10000
     },
     "inputWidgets": {},
     "nuid": "673248c6-e2c6-4742-955b-2fde9966e8db",
     "showTitle": false,
     "tableResultSettingsMap": {},
     "title": ""
    }
   },
   "outputs": [],
   "source": [
    "import requests\n",
    "from pyspark.sql.functions import lit"
   ]
  },
  {
   "cell_type": "code",
   "execution_count": 0,
   "metadata": {
    "application/vnd.databricks.v1+cell": {
     "cellMetadata": {
      "byteLimit": 2048000,
      "rowLimit": 10000
     },
     "inputWidgets": {},
     "nuid": "2c61d7b9-95fe-40fb-a432-baf253b073a7",
     "showTitle": false,
     "tableResultSettingsMap": {},
     "title": ""
    }
   },
   "outputs": [],
   "source": [
    "def extracao(date, base='BRL'):\n",
    "\n",
    "  url = f\"https://api.apilayer.com/exchangerates_data/{date}&base={base}\"\n",
    "\n",
    "  payload = {}\n",
    "  headers= {\n",
    "    \"apikey\": \"YOUR API KEY HERE\"\n",
    "  }\n",
    "\n",
    "  parametros = {\"base\": base}\n",
    "\n",
    "  response = requests.request(\"GET\", url, headers=headers, params=parametros)\n",
    "\n",
    "  if response.status_code != 200:\n",
    "      raise Exception(\"Não foi possível extrair os dados!\")\n",
    "\n",
    "  return response.json()\n"
   ]
  },
  {
   "cell_type": "code",
   "execution_count": 0,
   "metadata": {
    "application/vnd.databricks.v1+cell": {
     "cellMetadata": {
      "byteLimit": 2048000,
      "rowLimit": 10000
     },
     "inputWidgets": {},
     "nuid": "48ce5ea4-71bf-490e-a5d0-7af18763b459",
     "showTitle": false,
     "tableResultSettingsMap": {},
     "title": ""
    }
   },
   "outputs": [],
   "source": [
    "def dados_para_dataframe(dados_json):\n",
    "    dados_tupla = [(moeda, float(taxa)) for moeda, taxa in dados_json['rates'].items()]\n",
    "    return dados_tupla"
   ]
  },
  {
   "cell_type": "code",
   "execution_count": 0,
   "metadata": {
    "application/vnd.databricks.v1+cell": {
     "cellMetadata": {
      "byteLimit": 2048000,
      "rowLimit": 10000
     },
     "inputWidgets": {},
     "nuid": "da260ae1-9e60-4c1f-b9b5-bb4cdd5d9520",
     "showTitle": false,
     "tableResultSettingsMap": {},
     "title": ""
    }
   },
   "outputs": [],
   "source": [
    "def salvar_parquet(conversoes_extraidas):\n",
    "    ano, mes, dia = conversoes_extraidas['date'].split('-')\n",
    "    path = f\"dbfs:/databricks-results/bronze/{ano}/{mes}/{dia}\"\n",
    "    result = dados_para_dataframe(conversoes_extraidas)\n",
    "    df_moedas = spark.createDataFrame(result, schema=['moeda', 'taxa'])\n",
    "    df_moedas = df_moedas.withColumn('data', lit(f'{ano}-{mes}-{dia}'))\n",
    "\n",
    "    df_moedas.write.format('parquet').mode('overwrite').save(path)\n",
    "    print(f\"Dados salvos em {path}\")\n"
   ]
  },
  {
   "cell_type": "code",
   "execution_count": 0,
   "metadata": {
    "application/vnd.databricks.v1+cell": {
     "cellMetadata": {
      "byteLimit": 2048000,
      "rowLimit": 10000
     },
     "inputWidgets": {},
     "nuid": "d8abb205-52b9-4af2-95bc-69be4566f671",
     "showTitle": false,
     "tableResultSettingsMap": {},
     "title": ""
    }
   },
   "outputs": [],
   "source": [
    "cotacoes = extracao(data_execucao)\n",
    "salvar_parquet(cotacoes)\n"
   ]
  },
  {
   "cell_type": "code",
   "execution_count": 0,
   "metadata": {
    "application/vnd.databricks.v1+cell": {
     "cellMetadata": {},
     "inputWidgets": {},
     "nuid": "b5c9d87d-492e-497a-a1a5-51b5983d5ea6",
     "showTitle": false,
     "tableResultSettingsMap": {},
     "title": ""
    }
   },
   "outputs": [],
   "source": []
  }
 ],
 "metadata": {
  "application/vnd.databricks.v1+notebook": {
   "computePreferences": null,
   "dashboards": [],
   "environmentMetadata": {
    "base_environment": "",
    "environment_version": "2"
   },
   "language": "python",
   "notebookMetadata": {
    "pythonIndentUnit": 4
   },
   "notebookName": "d_a_a_extracao",
   "widgets": {
    "data_execucao": {
     "currentValue": "",
     "nuid": "8de19d43-49d2-4de2-8920-c5e8fac42128",
     "typedWidgetInfo": {
      "autoCreated": false,
      "defaultValue": "",
      "label": null,
      "name": "data_execucao",
      "options": {
       "validationRegex": null,
       "widgetDisplayType": "Text"
      },
      "parameterDataType": "String"
     },
     "widgetInfo": {
      "defaultValue": "",
      "label": null,
      "name": "data_execucao",
      "options": {
       "autoCreated": null,
       "validationRegex": null,
       "widgetType": "text"
      },
      "widgetType": "text"
     }
    }
   }
  },
  "language_info": {
   "name": "python"
  }
 },
 "nbformat": 4,
 "nbformat_minor": 0
}
